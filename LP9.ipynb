{
  "nbformat": 4,
  "nbformat_minor": 0,
  "metadata": {
    "colab": {
      "provenance": []
    },
    "kernelspec": {
      "name": "python3",
      "display_name": "Python 3"
    },
    "language_info": {
      "name": "python"
    }
  },
  "cells": [
    {
      "cell_type": "code",
      "source": [
        "!pip install numpy\n",
        "!pip install scikit-surprise"
      ],
      "metadata": {
        "colab": {
          "base_uri": "https://localhost:8080/"
        },
        "id": "6eEWuJgVNxt3",
        "outputId": "f05b101d-1f2c-4780-d014-eec17314b69f"
      },
      "execution_count": 2,
      "outputs": [
        {
          "output_type": "stream",
          "name": "stdout",
          "text": [
            "Requirement already satisfied: numpy in /usr/local/lib/python3.10/dist-packages (1.25.2)\n",
            "Collecting scikit-surprise\n",
            "  Downloading scikit-surprise-1.1.3.tar.gz (771 kB)\n",
            "\u001b[2K     \u001b[90m━━━━━━━━━━━━━━━━━━━━━━━━━━━━━━━━━━━━━━━━\u001b[0m \u001b[32m772.0/772.0 kB\u001b[0m \u001b[31m4.5 MB/s\u001b[0m eta \u001b[36m0:00:00\u001b[0m\n",
            "\u001b[?25h  Preparing metadata (setup.py) ... \u001b[?25l\u001b[?25hdone\n",
            "Requirement already satisfied: joblib>=1.0.0 in /usr/local/lib/python3.10/dist-packages (from scikit-surprise) (1.4.0)\n",
            "Requirement already satisfied: numpy>=1.17.3 in /usr/local/lib/python3.10/dist-packages (from scikit-surprise) (1.25.2)\n",
            "Requirement already satisfied: scipy>=1.3.2 in /usr/local/lib/python3.10/dist-packages (from scikit-surprise) (1.11.4)\n",
            "Building wheels for collected packages: scikit-surprise\n",
            "  Building wheel for scikit-surprise (setup.py) ... \u001b[?25l\u001b[?25hdone\n",
            "  Created wheel for scikit-surprise: filename=scikit_surprise-1.1.3-cp310-cp310-linux_x86_64.whl size=3163007 sha256=69e0e7ac9c4bbed6a65801013862f3c7ca4cb7831341c1f69c688a1def7ac135\n",
            "  Stored in directory: /root/.cache/pip/wheels/a5/ca/a8/4e28def53797fdc4363ca4af740db15a9c2f1595ebc51fb445\n",
            "Successfully built scikit-surprise\n",
            "Installing collected packages: scikit-surprise\n",
            "Successfully installed scikit-surprise-1.1.3\n"
          ]
        }
      ]
    },
    {
      "cell_type": "code",
      "source": [
        "import sklearn"
      ],
      "metadata": {
        "colab": {
          "base_uri": "https://localhost:8080/"
        },
        "id": "I0kzBqcSTozN",
        "outputId": "5e098e49-76e1-4e1d-b0a9-6108c0f18822"
      },
      "execution_count": 36,
      "outputs": [
        {
          "output_type": "stream",
          "name": "stderr",
          "text": [
            "/usr/local/lib/python3.10/dist-packages/ipykernel/ipkernel.py:283: DeprecationWarning: `should_run_async` will not call `transform_cell` automatically in the future. Please pass the result to `transformed_cell` argument and any exception that happen during thetransform in `preprocessing_exc_tuple` in IPython 7.17 and above.\n",
            "  and should_run_async(code)\n"
          ]
        }
      ]
    },
    {
      "cell_type": "code",
      "source": [
        "%matplotlib inline\n",
        "\n",
        "from pathlib import Path\n",
        "\n",
        "import heapq\n",
        "from collections import defaultdict\n",
        "\n",
        "import pandas as pd\n",
        "import matplotlib.pylab as plt\n",
        "from mlxtend.frequent_patterns import apriori\n",
        "from mlxtend.frequent_patterns import association_rules\n",
        "\n",
        "from surprise import Dataset, Reader, KNNBasic\n",
        "from surprise.model_selection import train_test_split"
      ],
      "metadata": {
        "id": "DR24CCMbOYbI"
      },
      "execution_count": 3,
      "outputs": []
    },
    {
      "cell_type": "code",
      "source": [
        "#Class ID reference\n",
        "#1 SQL\n",
        "#2 Spatial\n",
        "#3 PA1\n",
        "#4 DMinR\n",
        "#5 Python\n",
        "#6 Forecast\n",
        "#7 RProg\n",
        "#8 Hadoop\n",
        "#9 Regression"
      ],
      "metadata": {
        "colab": {
          "base_uri": "https://localhost:8080/"
        },
        "id": "fkTg4U9qOZVC",
        "outputId": "95dc060c-37e6-4a80-9a39-64b600d6a99c"
      },
      "execution_count": 4,
      "outputs": [
        {
          "output_type": "stream",
          "name": "stderr",
          "text": [
            "/usr/local/lib/python3.10/dist-packages/ipykernel/ipkernel.py:283: DeprecationWarning: `should_run_async` will not call `transform_cell` automatically in the future. Please pass the result to `transformed_cell` argument and any exception that happen during thetransform in `preprocessing_exc_tuple` in IPython 7.17 and above.\n",
            "  and should_run_async(code)\n"
          ]
        }
      ]
    },
    {
      "cell_type": "code",
      "source": [
        "#Name ID Reference\n",
        "#1 LN\n",
        "#2 MH\n",
        "#3 JH\n",
        "#4 EN\n",
        "#5 DU\n",
        "#6 FL\n",
        "#7 GL\n",
        "#8 AH\n",
        "#9 SA\n",
        "#10 RW\n",
        "#11 BA\n",
        "#12 MG\n",
        "#13 AF\n",
        "#14 KG\n",
        "#15 DS"
      ],
      "metadata": {
        "colab": {
          "base_uri": "https://localhost:8080/"
        },
        "id": "Lh7dG_SmOcc4",
        "outputId": "ee7014e4-d2de-4660-e9e5-78a97c994f28"
      },
      "execution_count": 5,
      "outputs": [
        {
          "output_type": "stream",
          "name": "stderr",
          "text": [
            "/usr/local/lib/python3.10/dist-packages/ipykernel/ipkernel.py:283: DeprecationWarning: `should_run_async` will not call `transform_cell` automatically in the future. Please pass the result to `transformed_cell` argument and any exception that happen during thetransform in `preprocessing_exc_tuple` in IPython 7.17 and above.\n",
            "  and should_run_async(code)\n"
          ]
        }
      ]
    },
    {
      "cell_type": "code",
      "source": [
        "ratings = pd.DataFrame([\n",
        "    [1,1,4],[1,5,3],[1,6,2],[1,7,4],[1,9,2],\n",
        "    [2,1,3],[2,2,4],[2,5,4],\n",
        "    [3,1,2],[3,2,2],\n",
        "    [4,1,4],[4,4,4],[4,7,4],[4,9,3],\n",
        "    [5,1,4],[5,2,4],\n",
        "    [6,2,4],\n",
        "    [7,2,4],\n",
        "    [8,2,3],\n",
        "    [9,3,4],\n",
        "    [10,3,2],[10,8,4],\n",
        "    [11,3,4],\n",
        "    [12,3,4],[12,6,4],\n",
        "    [13,3,4],\n",
        "    [14,3,3],\n",
        "    [15,1,4],[15,4,2],[15,7,4]\n",
        "], columns=['nameID', 'classID','rating'])"
      ],
      "metadata": {
        "colab": {
          "base_uri": "https://localhost:8080/"
        },
        "id": "Yu5T7AlZOfkx",
        "outputId": "d8447f25-eb21-43fd-d888-c612e0630786"
      },
      "execution_count": 6,
      "outputs": [
        {
          "output_type": "stream",
          "name": "stderr",
          "text": [
            "/usr/local/lib/python3.10/dist-packages/ipykernel/ipkernel.py:283: DeprecationWarning: `should_run_async` will not call `transform_cell` automatically in the future. Please pass the result to `transformed_cell` argument and any exception that happen during thetransform in `preprocessing_exc_tuple` in IPython 7.17 and above.\n",
            "  and should_run_async(code)\n"
          ]
        }
      ]
    },
    {
      "cell_type": "code",
      "source": [
        "import random\n",
        "\n",
        "def get_top_n(predictions, n=10):\n",
        "    # First map the predictions to each user.\n",
        "    byUser = defaultdict(list)\n",
        "    for p in predictions:\n",
        "        byUser[p.uid].append(p)\n",
        "\n",
        "    # For each user, reduce predictions to top-n\n",
        "    for uid, userPredictions in byUser.items():\n",
        "        byUser[uid] = heapq.nlargest(n, userPredictions, key=lambda p: p.est)\n",
        "    return byUser\n",
        "\n",
        "# Convert thes data set into the format required by the surprise package\n",
        "# The columns must correspond to user id, item id and ratings (in that order)\n",
        "reader = Reader(rating_scale=(1, 4))\n",
        "data = Dataset.load_from_df(ratings[['nameID', 'classID', 'rating']], reader)\n",
        "\n",
        "# Split into training and test set\n",
        "trainset, testset = train_test_split(data, test_size=.25, random_state=1)\n",
        "\n",
        "## User-based filtering\n",
        "# compute cosine similarity between users\n",
        "sim_options = {'name': 'cosine', 'user_based': True}\n",
        "algo = KNNBasic(sim_options=sim_options)\n",
        "algo.fit(trainset)\n",
        "\n",
        "\n",
        "# Than predict ratings for all pairs (u, i) that are NOT in the training set.\n",
        "predictions = algo.test(testset)\n",
        "\n",
        "top_n = get_top_n(predictions, n=10)\n",
        "\n",
        "# Print the recommended items for each user\n",
        "print()\n",
        "print('Top-3 recommended classes for each student')\n",
        "for uid, user_ratings in list(top_n.items())[:15]:\n",
        "    print('User {}'.format(uid))\n",
        "    for prediction in user_ratings:\n",
        "        print('  Item {0.iid} ({0.est:.2f})'.format(prediction), end='')\n",
        "    print()\n",
        "print()\n",
        "\n",
        "\n",
        "## Item-based filtering\n",
        "# compute cosine similarity between users\n",
        "sim_options = {'name': 'cosine', 'user_based': False}\n",
        "algo = KNNBasic(sim_options=sim_options)\n",
        "algo.fit(trainset)\n",
        "\n",
        "# Than predict ratings for all pairs (u, i) that are NOT in the training set.\n",
        "predictions = algo.test(testset)\n",
        "top_n = get_top_n(predictions, n=3)\n",
        "\n",
        "# Print the recommended items for each user\n",
        "print()\n",
        "print('Top-3 recommended classes for each student')\n",
        "for uid, user_ratings in list(top_n.items())[:15]:\n",
        "    print('User {}'.format(uid))\n",
        "    for prediction in user_ratings:\n",
        "        print('  Item {0.iid} ({0.est:.2f})'.format(prediction), end='')\n",
        "    print()"
      ],
      "metadata": {
        "colab": {
          "base_uri": "https://localhost:8080/"
        },
        "id": "_W_ryXWWOh_x",
        "outputId": "ed33424c-11ab-4d69-ae64-86963d5ea79f"
      },
      "execution_count": 47,
      "outputs": [
        {
          "output_type": "stream",
          "name": "stdout",
          "text": [
            "Computing the cosine similarity matrix...\n",
            "Done computing similarity matrix.\n",
            "\n",
            "Top-3 recommended classes for each student\n",
            "User 5\n",
            "  Item 2 (3.55)\n",
            "User 15\n",
            "  Item 7 (4.00)  Item 4 (3.55)\n",
            "User 3\n",
            "  Item 2 (3.55)  Item 1 (3.55)\n",
            "User 4\n",
            "  Item 7 (4.00)  Item 4 (3.55)\n",
            "User 2\n",
            "  Item 1 (4.00)\n",
            "\n",
            "Computing the cosine similarity matrix...\n",
            "Done computing similarity matrix.\n",
            "\n",
            "Top-3 recommended classes for each student\n",
            "User 5\n",
            "  Item 2 (3.55)\n",
            "User 15\n",
            "  Item 7 (4.00)  Item 4 (3.55)\n",
            "User 3\n",
            "  Item 2 (3.55)  Item 1 (3.55)\n",
            "User 4\n",
            "  Item 4 (3.55)  Item 7 (3.50)\n",
            "User 2\n",
            "  Item 1 (4.00)\n"
          ]
        },
        {
          "output_type": "stream",
          "name": "stderr",
          "text": [
            "/usr/local/lib/python3.10/dist-packages/ipykernel/ipkernel.py:283: DeprecationWarning: `should_run_async` will not call `transform_cell` automatically in the future. Please pass the result to `transformed_cell` argument and any exception that happen during thetransform in `preprocessing_exc_tuple` in IPython 7.17 and above.\n",
            "  and should_run_async(code)\n"
          ]
        }
      ]
    },
    {
      "cell_type": "code",
      "source": [
        "## Build a model using the full dataset\n",
        "trainset = data.build_full_trainset()\n",
        "sim_options = {'name': 'cosine', 'user_based': False}\n",
        "algo = KNNBasic(sim_options=sim_options)\n",
        "algo.fit(trainset)\n",
        "\n",
        "# Predict rating for student EN (4) and items (2, 3, 5, 6, 8)\n",
        "algo.predict(4, 2)"
      ],
      "metadata": {
        "colab": {
          "base_uri": "https://localhost:8080/"
        },
        "id": "GPsQLpB4RRwI",
        "outputId": "546a3550-32a6-47d3-de97-2b88382d0f81"
      },
      "execution_count": 79,
      "outputs": [
        {
          "output_type": "stream",
          "name": "stdout",
          "text": [
            "Computing the cosine similarity matrix...\n",
            "Done computing similarity matrix.\n"
          ]
        },
        {
          "output_type": "stream",
          "name": "stderr",
          "text": [
            "/usr/local/lib/python3.10/dist-packages/ipykernel/ipkernel.py:283: DeprecationWarning: `should_run_async` will not call `transform_cell` automatically in the future. Please pass the result to `transformed_cell` argument and any exception that happen during thetransform in `preprocessing_exc_tuple` in IPython 7.17 and above.\n",
            "  and should_run_async(code)\n"
          ]
        },
        {
          "output_type": "execute_result",
          "data": {
            "text/plain": [
              "Prediction(uid=4, iid=2, r_ui=None, est=4, details={'actual_k': 1, 'was_impossible': False})"
            ]
          },
          "metadata": {},
          "execution_count": 79
        }
      ]
    },
    {
      "cell_type": "code",
      "source": [
        "from sklearn.metrics.pairwise import cosine_similarity"
      ],
      "metadata": {
        "colab": {
          "base_uri": "https://localhost:8080/"
        },
        "id": "5BXyW0YsTyl_",
        "outputId": "5091d162-4134-448f-c6e5-78adac845806"
      },
      "execution_count": 40,
      "outputs": [
        {
          "output_type": "stream",
          "name": "stderr",
          "text": [
            "/usr/local/lib/python3.10/dist-packages/ipykernel/ipkernel.py:283: DeprecationWarning: `should_run_async` will not call `transform_cell` automatically in the future. Please pass the result to `transformed_cell` argument and any exception that happen during thetransform in `preprocessing_exc_tuple` in IPython 7.17 and above.\n",
            "  and should_run_async(code)\n"
          ]
        }
      ]
    },
    {
      "cell_type": "code",
      "source": [
        "a = [[4]]\n",
        "b = [[2]]\n",
        "cosine_similarity(a, b)"
      ],
      "metadata": {
        "colab": {
          "base_uri": "https://localhost:8080/"
        },
        "id": "s3rj_YvXSt5c",
        "outputId": "33e9e990-4700-4181-82fd-d25af308c5e1"
      },
      "execution_count": 71,
      "outputs": [
        {
          "output_type": "stream",
          "name": "stderr",
          "text": [
            "/usr/local/lib/python3.10/dist-packages/ipykernel/ipkernel.py:283: DeprecationWarning: `should_run_async` will not call `transform_cell` automatically in the future. Please pass the result to `transformed_cell` argument and any exception that happen during thetransform in `preprocessing_exc_tuple` in IPython 7.17 and above.\n",
            "  and should_run_async(code)\n"
          ]
        },
        {
          "output_type": "execute_result",
          "data": {
            "text/plain": [
              "array([[1.]])"
            ]
          },
          "metadata": {},
          "execution_count": 71
        }
      ]
    }
  ]
}